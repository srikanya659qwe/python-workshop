{
 "cells": [
  {
   "cell_type": "markdown",
   "metadata": {},
   "source": [
    "#### File Handling in python\n",
    "### files:\n",
    "- file stores the relative information\n",
    "- file operations:\n",
    "    - open a file()\n",
    "    - doing an operation\n",
    "    - close a file()\n",
    "- by using open()  and with open() functions we can open the file in filehandling\n",
    "- in open()function contains two parameters\n",
    "        -open(filepath,mode)\n",
    "#### modes in filehandling\n",
    "    - read()\n",
    "    - write()\n",
    "    - append()\n",
    "- by default the file will be opend 'read' mode"
   ]
  },
  {
   "cell_type": "code",
   "execution_count": 3,
   "metadata": {},
   "outputs": [
    {
     "name": "stdout",
     "output_type": "stream",
     "text": [
      "line 1\n",
      "line 2\n",
      "line 3\n",
      "line 4\n"
     ]
    }
   ],
   "source": [
    "f=open('files/data.txt','r')\n",
    "fh=f.read()\n",
    "print(fh)\n",
    "f.close()"
   ]
  },
  {
   "cell_type": "code",
   "execution_count": 6,
   "metadata": {
    "collapsed": true
   },
   "outputs": [
    {
     "name": "stdout",
     "output_type": "stream",
     "text": [
      "20\n"
     ]
    }
   ],
   "source": [
    "f=open('files/data.txt','w')\n",
    "fh=f.write(\"good morning to all\\n\")\n",
    "print(fh)\n",
    "f.close()"
   ]
  },
  {
   "cell_type": "code",
   "execution_count": 7,
   "metadata": {},
   "outputs": [
    {
     "name": "stdout",
     "output_type": "stream",
     "text": [
      "14\n"
     ]
    }
   ],
   "source": [
    "f=open('files/data.txt','a')\n",
    "fh=f.write(\"anits college\\n\")\n",
    "print(fh)\n",
    "f.close()"
   ]
  },
  {
   "cell_type": "code",
   "execution_count": 8,
   "metadata": {
    "scrolled": true
   },
   "outputs": [
    {
     "name": "stdout",
     "output_type": "stream",
     "text": [
      "good morning to all\n",
      "anits college\n",
      "\n"
     ]
    }
   ],
   "source": [
    "with open('files/data.txt')as f:\n",
    "    fh=f.read()\n",
    "    print(fh)"
   ]
  },
  {
   "cell_type": "markdown",
   "metadata": {},
   "source": [
    "#### readline()"
   ]
  },
  {
   "cell_type": "code",
   "execution_count": 15,
   "metadata": {
    "collapsed": true
   },
   "outputs": [
    {
     "name": "stdout",
     "output_type": "stream",
     "text": [
      "goo\n"
     ]
    }
   ],
   "source": [
    "with open('files/data.txt')as f:\n",
    "    fh=f.readline(3)\n",
    "    print(fh)"
   ]
  },
  {
   "cell_type": "code",
   "execution_count": 30,
   "metadata": {},
   "outputs": [
    {
     "name": "stdout",
     "output_type": "stream",
     "text": [
      "2\n"
     ]
    }
   ],
   "source": [
    "with open('files/data.txt')as f:\n",
    "    fh=f.readlines()\n",
    "    print(len(fh))"
   ]
  },
  {
   "cell_type": "code",
   "execution_count": 31,
   "metadata": {},
   "outputs": [
    {
     "name": "stdout",
     "output_type": "stream",
     "text": [
      "2\n"
     ]
    }
   ],
   "source": [
    "with open('files/data.txt')as f:\n",
    "    fh=f.readlines()\n",
    "    c=0\n",
    "    for i in fh:\n",
    "        c=c+1\n",
    "    print(c)"
   ]
  },
  {
   "cell_type": "markdown",
   "metadata": {},
   "source": [
    "#### tell()-displays the cursor position"
   ]
  },
  {
   "cell_type": "code",
   "execution_count": 22,
   "metadata": {},
   "outputs": [
    {
     "name": "stdout",
     "output_type": "stream",
     "text": [
      "36\n"
     ]
    }
   ],
   "source": [
    "with open('files/data.txt','r')as f:\n",
    "    f.read()\n",
    "    print(f.tell())"
   ]
  },
  {
   "cell_type": "markdown",
   "metadata": {},
   "source": [
    "#### seek()"
   ]
  },
  {
   "cell_type": "code",
   "execution_count": 24,
   "metadata": {},
   "outputs": [
    {
     "name": "stdout",
     "output_type": "stream",
     "text": [
      "od morning\n"
     ]
    }
   ],
   "source": [
    "with open('files/data.txt')as f:\n",
    "    f.seek(2)# cursor starting position\n",
    "    print(f.read(10))"
   ]
  },
  {
   "cell_type": "markdown",
   "metadata": {},
   "source": [
    "#### split()"
   ]
  },
  {
   "cell_type": "code",
   "execution_count": 26,
   "metadata": {
    "collapsed": true
   },
   "outputs": [
    {
     "name": "stdout",
     "output_type": "stream",
     "text": [
      "6\n"
     ]
    }
   ],
   "source": [
    "with open('files/data.txt','r')as f:\n",
    "    fh=f.read()\n",
    "    words=fh.split()\n",
    "    print(len(words))"
   ]
  },
  {
   "cell_type": "code",
   "execution_count": 28,
   "metadata": {},
   "outputs": [
    {
     "name": "stdout",
     "output_type": "stream",
     "text": [
      "6\n"
     ]
    }
   ],
   "source": [
    "### words count\n",
    "with open('files/data.txt','r')as f:\n",
    "    fh=f.read()\n",
    "    words=fh.split()\n",
    "    c=0\n",
    "    for i in words:\n",
    "        c=c+1\n",
    "    print(c)"
   ]
  },
  {
   "cell_type": "markdown",
   "metadata": {},
   "source": [
    "##### Functional Programming\n",
    "- list comprehension\n",
    "- iterators\n",
    "- generators\n",
    "- map()\n",
    "- lambda"
   ]
  },
  {
   "cell_type": "markdown",
   "metadata": {},
   "source": [
    "### list comprehension\n",
    "- reduces the no of lines of code\n",
    "- reduces time and space complexity"
   ]
  },
  {
   "cell_type": "code",
   "execution_count": 32,
   "metadata": {
    "collapsed": true
   },
   "outputs": [
    {
     "name": "stdout",
     "output_type": "stream",
     "text": [
      "[1, 2, 3, 4, 5, 6, 7, 8, 9, 10]\n"
     ]
    }
   ],
   "source": [
    "# by using loops\n",
    "li=[]\n",
    "for i in range(1,11):\n",
    "    li.append(i)\n",
    "print(li)"
   ]
  },
  {
   "cell_type": "code",
   "execution_count": 34,
   "metadata": {
    "collapsed": true
   },
   "outputs": [
    {
     "data": {
      "text/plain": [
       "[1, 2, 3, 4, 5, 6, 7, 8, 9, 10]"
      ]
     },
     "execution_count": 34,
     "metadata": {},
     "output_type": "execute_result"
    }
   ],
   "source": [
    "# by using list comprehension\n",
    "lc=[i for i in range(1,11)]\n",
    "lc"
   ]
  },
  {
   "cell_type": "code",
   "execution_count": 35,
   "metadata": {
    "collapsed": true
   },
   "outputs": [
    {
     "data": {
      "text/plain": [
       "[10, 12, 14, 16, 18, 20]"
      ]
     },
     "execution_count": 35,
     "metadata": {},
     "output_type": "execute_result"
    }
   ],
   "source": [
    "even=[i for i in range(10,21) if i%2==0]\n",
    "even"
   ]
  },
  {
   "cell_type": "code",
   "execution_count": 36,
   "metadata": {
    "collapsed": true
   },
   "outputs": [
    {
     "data": {
      "text/plain": [
       "[11, 13, 15, 17, 19]"
      ]
     },
     "execution_count": 36,
     "metadata": {},
     "output_type": "execute_result"
    }
   ],
   "source": [
    "odd=[i for i in range(10,21) if i%2!=0]\n",
    "odd"
   ]
  },
  {
   "cell_type": "code",
   "execution_count": 38,
   "metadata": {},
   "outputs": [
    {
     "data": {
      "text/plain": [
       "[1992, 1996, 2000, 2004, 2008, 2012, 2016, 2020]"
      ]
     },
     "execution_count": 38,
     "metadata": {},
     "output_type": "execute_result"
    }
   ],
   "source": [
    "lb=1990\n",
    "ub=2020\n",
    "leap=[i for i in range(lb,ub+1) if i%400==0 or (i%4==0 and i%100!=0)]\n",
    "leap"
   ]
  },
  {
   "cell_type": "code",
   "execution_count": null,
   "metadata": {},
   "outputs": [],
   "source": [
    "#### factorials range by using list comprehension"
   ]
  },
  {
   "cell_type": "code",
   "execution_count": 42,
   "metadata": {},
   "outputs": [
    {
     "data": {
      "text/plain": [
       "[1, 2, 6, 24, 120, 720, 5040, 40320, 362880]"
      ]
     },
     "execution_count": 42,
     "metadata": {},
     "output_type": "execute_result"
    }
   ],
   "source": [
    "def factorial(n):\n",
    "    if n==0:\n",
    "        return 1\n",
    "    return n*factorial(n-1)\n",
    "#factorial(5)\n",
    "lc=[factorial(i) for i in range(1,10)]\n",
    "lc"
   ]
  },
  {
   "cell_type": "code",
   "execution_count": 46,
   "metadata": {
    "collapsed": true
   },
   "outputs": [
    {
     "data": {
      "text/plain": [
       "[1, 3, 6, 10, 15, 21, 28, 36, 45]"
      ]
     },
     "execution_count": 46,
     "metadata": {},
     "output_type": "execute_result"
    }
   ],
   "source": [
    "def cumulative(n):\n",
    "    s=0\n",
    "    for i in range(1,n+1):\n",
    "        s=s+i\n",
    "    return s\n",
    "#cumulative(5)\n",
    "lc=[cumulative(i)for i in range(1,10)]\n",
    "lc"
   ]
  },
  {
   "cell_type": "markdown",
   "metadata": {},
   "source": [
    "### Iterators\n",
    "- it contains two methods \n",
    "    - iter()\n",
    "    - next()"
   ]
  },
  {
   "cell_type": "code",
   "execution_count": 50,
   "metadata": {
    "scrolled": true
   },
   "outputs": [
    {
     "name": "stdout",
     "output_type": "stream",
     "text": [
      "s\n",
      "t\n",
      "r\n",
      "i\n",
      "n\n",
      "g\n"
     ]
    }
   ],
   "source": [
    "t=('string')\n",
    "s=iter(t)\n",
    "print(next(s))\n",
    "print(next(s))\n",
    "print(next(s))\n",
    "print(next(s))\n",
    "print(next(s))\n",
    "print(next(s))\n",
    "\n"
   ]
  },
  {
   "cell_type": "code",
   "execution_count": 51,
   "metadata": {},
   "outputs": [
    {
     "name": "stdout",
     "output_type": "stream",
     "text": [
      "c\n",
      "c++\n",
      "java\n"
     ]
    }
   ],
   "source": [
    "li=['c','c++','java','python']\n",
    "s=iter(li)\n",
    "print(next(s))\n",
    "print(next(s))\n",
    "print(next(s))"
   ]
  },
  {
   "cell_type": "markdown",
   "metadata": {},
   "source": [
    "### Generators\n",
    "- instead of return here using yield"
   ]
  },
  {
   "cell_type": "code",
   "execution_count": 52,
   "metadata": {},
   "outputs": [
    {
     "name": "stdout",
     "output_type": "stream",
     "text": [
      "1\n",
      "2\n",
      "3\n"
     ]
    }
   ],
   "source": [
    "def generatorof():\n",
    "    yield 1\n",
    "    yield 2\n",
    "    yield 3\n",
    "for i in generatorof():\n",
    "    print(i)"
   ]
  },
  {
   "cell_type": "code",
   "execution_count": 60,
   "metadata": {},
   "outputs": [
    {
     "name": "stdout",
     "output_type": "stream",
     "text": [
      "[1, 2, 6, 24, 120, 720, 5040, 40320, 362880]\n"
     ]
    }
   ],
   "source": [
    "print(list(map(factorial,range(1,10))))"
   ]
  },
  {
   "cell_type": "code",
   "execution_count": 57,
   "metadata": {
    "collapsed": true
   },
   "outputs": [
    {
     "data": {
      "text/plain": [
       "True"
      ]
     },
     "execution_count": 57,
     "metadata": {},
     "output_type": "execute_result"
    }
   ],
   "source": [
    "def isLeapyear(n):\n",
    "    if(n%400==0) or (n%4==0 and n%100!=0):\n",
    "        return True\n",
    "    return False\n",
    "isLeapyear(2020)"
   ]
  },
  {
   "cell_type": "code",
   "execution_count": 58,
   "metadata": {
    "collapsed": true
   },
   "outputs": [
    {
     "name": "stdout",
     "output_type": "stream",
     "text": [
      "[1904, 1908, 1912, 1916, 1920, 1924, 1928, 1932, 1936, 1940, 1944, 1948, 1952, 1956, 1960, 1964, 1968, 1972, 1976, 1980, 1984, 1988, 1992, 1996]\n"
     ]
    }
   ],
   "source": [
    "print(list(filter(isLeapyear,range(1900,2000))))"
   ]
  },
  {
   "cell_type": "code",
   "execution_count": 61,
   "metadata": {},
   "outputs": [
    {
     "name": "stdout",
     "output_type": "stream",
     "text": [
      "[1, 8, 27, 64, 125, 216, 343, 512, 729]\n"
     ]
    }
   ],
   "source": [
    "print(list(map(lambda x:x ** 3,range(1,10))))"
   ]
  },
  {
   "cell_type": "code",
   "execution_count": 62,
   "metadata": {},
   "outputs": [
    {
     "name": "stdout",
     "output_type": "stream",
     "text": [
      "[2, 4, 6, 8, 10, 12, 14, 16, 18, 20, 22, 24, 26, 28, 30, 32, 34, 36, 38, 40, 42, 44, 46, 48, 50, 52, 54, 56, 58, 60, 62, 64, 66, 68, 70, 72, 74, 76, 78, 80, 82, 84, 86, 88, 90, 92, 94, 96, 98]\n"
     ]
    }
   ],
   "source": [
    "print(list(filter(lambda x:x%2==0,range(1,100))))"
   ]
  },
  {
   "cell_type": "markdown",
   "metadata": {},
   "source": [
    "## Regular Expressions"
   ]
  },
  {
   "cell_type": "code",
   "execution_count": 67,
   "metadata": {},
   "outputs": [
    {
     "name": "stdout",
     "output_type": "stream",
     "text": [
      "3216549870\n",
      "invalid Number\n"
     ]
    }
   ],
   "source": [
    "import re\n",
    "n = input()\n",
    "pattern = '^[+][9][1][6-9][0-9]{9}$|^[0][6-9][0-9]{9}$|^[6-9][0-9]{9}$'\n",
    "if(re.match(pattern,n)):\n",
    "    print(\"valid Number\")\n",
    "else:\n",
    "    print(\"invalid Number\")"
   ]
  },
  {
   "cell_type": "code",
   "execution_count": 68,
   "metadata": {},
   "outputs": [
    {
     "name": "stdout",
     "output_type": "stream",
     "text": [
      "find\n"
     ]
    }
   ],
   "source": [
    "s = 'this is python workshop oin the anits college'\n",
    "if(re.search(\"python\",s)):\n",
    "    print(\"find\")\n",
    "else:\n",
    "    print(\"unavailable\")"
   ]
  },
  {
   "cell_type": "code",
   "execution_count": null,
   "metadata": {},
   "outputs": [],
   "source": [
    "\n",
    "O/P : 2097\n",
    "    ['Chiru','Cherry','Chinnu']\n",
    "    ['mega','power','star']"
   ]
  },
  {
   "cell_type": "code",
   "execution_count": 12,
   "metadata": {},
   "outputs": [
    {
     "name": "stdout",
     "output_type": "stream",
     "text": [
      "2097\n",
      "['Chiru', 'Cherry', 'Chinnu']\n",
      "['mega', 'power', 'star']\n"
     ]
    }
   ],
   "source": [
    "li = ['7','chiru','mega*','9','cherry','po23wer*','20','chinnu','#star@']\n",
    "d = []\n",
    "a = []\n",
    "an = []\n",
    "anu = []\n",
    "for i in li:\n",
    "    if str(i).isdigit():\n",
    "        d.append(i)\n",
    "    elif str(i).isalpha():\n",
    "        a.append(i.capitalize())\n",
    "    else:\n",
    "        an=[]\n",
    "        for j in i:\n",
    "            if(j.isalpha()):\n",
    "                an.append(j)\n",
    "        anu.append(\"\".join(an))\n",
    "        \n",
    "        \n",
    "d.reverse()\n",
    "print(''.join(d))\n",
    "print(a)\n",
    "print(anu)"
   ]
  },
  {
   "cell_type": "code",
   "execution_count": null,
   "metadata": {},
   "outputs": [],
   "source": []
  }
 ],
 "metadata": {
  "kernelspec": {
   "display_name": "Python 3",
   "language": "python",
   "name": "python3"
  },
  "language_info": {
   "codemirror_mode": {
    "name": "ipython",
    "version": 3
   },
   "file_extension": ".py",
   "mimetype": "text/x-python",
   "name": "python",
   "nbconvert_exporter": "python",
   "pygments_lexer": "ipython3",
   "version": "3.7.3"
  }
 },
 "nbformat": 4,
 "nbformat_minor": 2
}
